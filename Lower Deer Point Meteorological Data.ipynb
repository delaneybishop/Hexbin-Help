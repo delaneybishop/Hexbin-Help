{
 "cells": [
  {
   "cell_type": "code",
   "execution_count": 1,
   "id": "cbec55d3",
   "metadata": {},
   "outputs": [],
   "source": [
    "import numpy as np\n",
    "import pandas as pd\n",
    "import matplotlib.pyplot as plt\n",
    "import math"
   ]
  },
  {
   "cell_type": "code",
   "execution_count": 2,
   "id": "e6af61ef",
   "metadata": {},
   "outputs": [],
   "source": [
    "#Ignore this\n",
    "#y = Air_Temp_C_2015 \n",
    "#x = filtered_met_2015['DateTime'] \n",
    "#plt.style.use('ggplot')\n",
    "#plt.title('Air Temperature', color='black')\n",
    "#plt.xlabel('Date & Time (hr)', color='black')\n",
    "#plt.ylabel('Air Temperature (C)', color='black')  \n",
    "#plt.tick_params(labelrotation=45)\n",
    "#plt.plot(x, y, ':')  \n",
    "#plt.show() "
   ]
  },
  {
   "cell_type": "code",
   "execution_count": 3,
   "id": "2795c7a2",
   "metadata": {},
   "outputs": [],
   "source": [
    "df_met_5_25_2023 = pd.read_csv('1_2023---6_2023_Met_Station.csv', parse_dates=['DateTime'])\n",
    "df_met_7_6_2023 = pd.read_csv('7_6_23_LDP_BD_Met_Station.csv', parse_dates=['DateTime'])\n",
    "df_met_8_3_2023 = pd.read_csv('8_3_23_LDP_Met.csv', parse_dates=['DateTime'])"
   ]
  },
  {
   "cell_type": "code",
   "execution_count": 4,
   "id": "3aabc840",
   "metadata": {},
   "outputs": [],
   "source": [
    "#filter dataframe DateTimes\n",
    "May = df_met_5_25_2023.loc[(df_met_5_25_2023['DateTime'] >= '2023-05-25 17:00:00')\n",
    "                     & (df_met_5_25_2023['DateTime'] < '2023-05-30 23:00:00')]\n",
    "June = df_met_7_6_2023.loc[(df_met_7_6_2023['DateTime'] >= '2023-06-01 00:00:00')\n",
    "                     & (df_met_7_6_2023['DateTime'] < '2023-06-30 23:00:00')]\n",
    "July = df_met_8_3_2023.loc[(df_met_8_3_2023['DateTime'] >= '2023-07-01 00:00:00')\n",
    "                     & (df_met_8_3_2023['DateTime'] < '2023-07-30 23:00:00')]"
   ]
  },
  {
   "cell_type": "code",
   "execution_count": 5,
   "id": "d49c51db",
   "metadata": {},
   "outputs": [],
   "source": [
    "#Create data naming for graphing from csv columns and filtered dataframes\n",
    "Net_Radiation_Shortwave_May = (May['Solar_Radiation_Shortwave_Up_Average_W/m2']+May['Solar_Radiation_Shortwave_Down_Average_W/m2'])\n",
    "Net_Radiation_Longwave_May = (May['Solar_Radiation_Longwave_Up_Average_W/m2']+May['Solar_Radiation_Longwave_Down_Average_W/m2'])\n",
    "Available_Energy_May = Net_Radiation_Shortwave_May-Net_Radiation_Longwave_May\n",
    "Net_Radiation_Shortwave_June = (June['Solar_Radiation_Shortwave_Up_Average_W/m2']+June['Solar_Radiation_Shortwave_Down_Average_W/m2'])\n",
    "Net_Radiation_Longwave_June = (June['Solar_Radiation_Longwave_Up_Average_W/m2']+June['Solar_Radiation_Longwave_Down_Average_W/m2'])\n",
    "Available_Energy_June = ((Net_Radiation_Shortwave_June-Net_Radiation_Longwave_June)+Available_Energy_May)\n",
    "Net_Radiation_Shortwave_July = (July['Solar_Radiation_Shortwave_Up_Average_W/m2']+July['Solar_Radiation_Shortwave_Down_Average_W/m2'])\n",
    "Net_Radiation_Longwave_July = (July['Solar_Radiation_Longwave_Up_Average_W/m2']+July['Solar_Radiation_Longwave_Down_Average_W/m2'])\n",
    "Available_Energy_July = Net_Radiation_Shortwave_July-Net_Radiation_Longwave_July"
   ]
  },
  {
   "cell_type": "code",
   "execution_count": 6,
   "id": "0164fc1b",
   "metadata": {},
   "outputs": [],
   "source": [
    "#Create data naming for graphing from csv columns and filtered dataframes\n",
    "Soil_Moisture_May = (May['Soil_Moisture1_period_8cm_west_Average']+May['Soil_Moisture2_period_8cm_east_Average'])\n",
    "Volumetric_Water_Content_May = (May['Volumetric_Water_Content_Soil_Moisture1_8cm_west_Avgerage_cm3/cm3']+May['Volumetric_Water_Content2_Soil_Moisture_8cm_east_Average_cm3/cm3'])\n",
    "Soil_Moisture_June = (June['Soil_Moisture1_period_8cm_west_Average']+June['Soil_Moisture2_period_8cm_east_Average'])\n",
    "Volumetric_Water_Content_June = (June['Volumetric_Water_Content_Soil_Moisture1_8cm_west_Avgerage_cm3/cm3']+June['Volumetric_Water_Content2_Soil_Moisture_8cm_east_Average_cm3/cm3'])\n",
    "Soil_Moisture_July = (July['Soil_Moisture1_period_8cm_west_Average']+July['Soil_Moisture2_period_8cm_east_Average'])\n",
    "Volumetric_Water_Content_July = (July['Volumetric_Water_Content_Soil_Moisture1_8cm_west_Avgerage_cm3/cm3']+July['Volumetric_Water_Content2_Soil_Moisture_8cm_east_Average_cm3/cm3'])"
   ]
  },
  {
   "cell_type": "code",
   "execution_count": 7,
   "id": "435556d1",
   "metadata": {},
   "outputs": [],
   "source": [
    "#Create data naming for graphing from csv columns and filtered dataframes\n",
    "Air_Temp_May = (May['Air_Temp_Average_DegC'])\n",
    "Relative_Humidity_May = (May['Relative_Humidity_Average_%'])\n",
    "Air_Temp_June = (June['Air_Temp_Average_DegC']) \n",
    "Relative_Humidity_June = (June['Relative_Humidity_Average_%'])\n",
    "Air_Temp_July = (July['Air_Temp_Average_DegC'])\n",
    "Relative_Humidity_July = (July['Relative_Humidity_Average_%'])"
   ]
  },
  {
   "cell_type": "code",
   "execution_count": 8,
   "id": "17f74d30",
   "metadata": {},
   "outputs": [
    {
     "ename": "TypeError",
     "evalue": "cannot convert the series to <class 'float'>",
     "output_type": "error",
     "traceback": [
      "\u001b[1;31m---------------------------------------------------------------------------\u001b[0m",
      "\u001b[1;31mTypeError\u001b[0m                                 Traceback (most recent call last)",
      "Input \u001b[1;32mIn [8]\u001b[0m, in \u001b[0;36m<cell line: 8>\u001b[1;34m()\u001b[0m\n\u001b[0;32m      5\u001b[0m \u001b[38;5;28;01mfrom\u001b[39;00m \u001b[38;5;21;01mmath\u001b[39;00m \u001b[38;5;28;01mimport\u001b[39;00m exp\n\u001b[0;32m      7\u001b[0m \u001b[38;5;66;03m#First saturated vapor pressure\u001b[39;00m\n\u001b[1;32m----> 8\u001b[0m may_sat_vp \u001b[38;5;241m=\u001b[39m \u001b[38;5;241m0.6108\u001b[39m \u001b[38;5;241m*\u001b[39m \u001b[43mexp\u001b[49m\u001b[43m(\u001b[49m\u001b[38;5;241;43m17.27\u001b[39;49m\u001b[43m \u001b[49m\u001b[38;5;241;43m*\u001b[39;49m\u001b[43m \u001b[49m\u001b[43mAir_Temp_May\u001b[49m\u001b[43m \u001b[49m\u001b[38;5;241;43m/\u001b[39;49m\u001b[43m \u001b[49m\u001b[43m(\u001b[49m\u001b[43mAir_Temp_May\u001b[49m\u001b[43m \u001b[49m\u001b[38;5;241;43m+\u001b[39;49m\u001b[43m \u001b[49m\u001b[38;5;241;43m237.3\u001b[39;49m\u001b[43m)\u001b[49m\u001b[43m)\u001b[49m\n\u001b[0;32m      9\u001b[0m june_sat_vp \u001b[38;5;241m=\u001b[39m \u001b[38;5;241m0.6108\u001b[39m \u001b[38;5;241m*\u001b[39m exp(\u001b[38;5;241m17.27\u001b[39m \u001b[38;5;241m*\u001b[39m Air_Temp_June \u001b[38;5;241m/\u001b[39m (Air_Temp_June \u001b[38;5;241m+\u001b[39m \u001b[38;5;241m237.3\u001b[39m))\n\u001b[0;32m     10\u001b[0m july_sat_vp \u001b[38;5;241m=\u001b[39m \u001b[38;5;241m0.6108\u001b[39m \u001b[38;5;241m*\u001b[39m exp(\u001b[38;5;241m17.27\u001b[39m \u001b[38;5;241m*\u001b[39m Air_Temp_July \u001b[38;5;241m/\u001b[39m (Air_Temp_July \u001b[38;5;241m+\u001b[39m \u001b[38;5;241m237.3\u001b[39m))\n",
      "File \u001b[1;32m~\\anaconda3\\lib\\site-packages\\pandas\\core\\series.py:191\u001b[0m, in \u001b[0;36m_coerce_method.<locals>.wrapper\u001b[1;34m(self)\u001b[0m\n\u001b[0;32m    189\u001b[0m \u001b[38;5;28;01mif\u001b[39;00m \u001b[38;5;28mlen\u001b[39m(\u001b[38;5;28mself\u001b[39m) \u001b[38;5;241m==\u001b[39m \u001b[38;5;241m1\u001b[39m:\n\u001b[0;32m    190\u001b[0m     \u001b[38;5;28;01mreturn\u001b[39;00m converter(\u001b[38;5;28mself\u001b[39m\u001b[38;5;241m.\u001b[39miloc[\u001b[38;5;241m0\u001b[39m])\n\u001b[1;32m--> 191\u001b[0m \u001b[38;5;28;01mraise\u001b[39;00m \u001b[38;5;167;01mTypeError\u001b[39;00m(\u001b[38;5;124mf\u001b[39m\u001b[38;5;124m\"\u001b[39m\u001b[38;5;124mcannot convert the series to \u001b[39m\u001b[38;5;132;01m{\u001b[39;00mconverter\u001b[38;5;132;01m}\u001b[39;00m\u001b[38;5;124m\"\u001b[39m)\n",
      "\u001b[1;31mTypeError\u001b[0m: cannot convert the series to <class 'float'>"
     ]
    }
   ],
   "source": [
    "#Hung up, don't know why there's TypeError: can't convert to series class 'float' line 8\n",
    "\n",
    "#Calculating Vapor Pressure Defecit (VPD)\n",
    "\n",
    "from math import exp\n",
    "\n",
    "#First saturated vapor pressure\n",
    "may_sat_vp = 0.6108 * exp(17.27 * Air_Temp_May / (Air_Temp_May + 237.3))\n",
    "june_sat_vp = 0.6108 * exp(17.27 * Air_Temp_June / (Air_Temp_June + 237.3))\n",
    "july_sat_vp = 0.6108 * exp(17.27 * Air_Temp_July / (Air_Temp_July + 237.3))\n",
    "\n",
    "#Now actual vapor pressure \n",
    "may_actual_vp = Relative_Humidity_May / 100 * may_sat_vp\n",
    "june_actual_vp = Relative_Humidity_June / 100 * june_sat_vp\n",
    "july_actual_vp = Relative_Humidity_July / 100 * july_sat_vp\n",
    "\n",
    "#VPD\n",
    "May_VPD = may_sat_vp-may_actual_vp\n",
    "June_VPD = june_sat_vp-june_actual_vp\n",
    "July_VPD = july_sat_vp-july_actual_vp"
   ]
  },
  {
   "cell_type": "code",
   "execution_count": 9,
   "id": "0a9b97dd",
   "metadata": {},
   "outputs": [
    {
     "data": {
      "image/png": "[encoded data removed]",
      "text/plain": [
       "<Figure size 720x504 with 1 Axes>"
      ]
     },
     "metadata": {
      "needs_background": "light"
     },
     "output_type": "display_data"
    }
   ],
   "source": [
    "#Mostly Will's code, once I know better, redo\n",
    "np.random.seed(10)\n",
    "\n",
    "#List datasets\n",
    "data_1 = np.random.normal(Soil_Moisture_May)\n",
    "data_2 = np.random.normal(Soil_Moisture_June)\n",
    "data_3 = np.random.normal(Soil_Moisture_July)\n",
    "\n",
    "data = [data_1, data_2, data_3]\n",
    "\n",
    "fig = plt.figure(figsize =(10, 7))\n",
    " \n",
    "# Creating axes instance\n",
    "ax = fig.add_axes([1, 1, 1, 1])\n",
    " \n",
    "# Creating boxplot\n",
    "bp = ax.boxplot(data, patch_artist = True)\n",
    "\n",
    "colors = ['lightblue', 'lightblue',\n",
    "          'lightblue', 'lightblue']\n",
    " \n",
    "for patch, color in zip(bp['boxes'], colors):\n",
    "    patch.set_facecolor(color) \n",
    "\n",
    "# changing color and linewidth of the whiskers\n",
    "for whisker in bp['whiskers']:\n",
    "    whisker.set(color ='gray',\n",
    "                linewidth = 2,\n",
    "                linestyle =\":\")\n",
    "    \n",
    "# changing color and linewidth of the caps\n",
    "for cap in bp['caps']:\n",
    "    cap.set(color ='black',\n",
    "            linewidth = 2)   \n",
    "# changing color and linewidth of the medians\n",
    "for median in bp['medians']:\n",
    "    median.set(color ='red',\n",
    "               linewidth = 1.5)\n",
    "    \n",
    "# changing style of fliers\n",
    "for flier in bp['fliers']:\n",
    "    flier.set(marker ='D',\n",
    "              color ='red',\n",
    "              alpha = 0.5)\n",
    "\n",
    "# Adding title and x-y axis labels\n",
    "plt.title(\"Lower Deer Point Soil Moisture Summer 2023\")\n",
    "plt.xlabel(\"Month\")\n",
    "plt.ylabel(\"Soil Moisture (cm3/cm3)\")\n",
    " \n",
    "# Removing top axes and right axes and setting ticks\n",
    "ax.get_xaxis().tick_bottom()\n",
    "ax.get_yaxis().tick_left()\n",
    "\n",
    "# x-axis labels\n",
    "ax.set_xticklabels(['May', 'June','July'])\n",
    "    \n",
    "plt.show()"
   ]
  },
  {
   "cell_type": "code",
   "execution_count": 10,
   "id": "1101abe5",
   "metadata": {},
   "outputs": [
    {
     "ename": "ValueError",
     "evalue": "maximum supported dimension for an ndarray is 32, found 126",
     "output_type": "error",
     "traceback": [
      "\u001b[1;31m---------------------------------------------------------------------------\u001b[0m",
      "\u001b[1;31mValueError\u001b[0m                                Traceback (most recent call last)",
      "Input \u001b[1;32mIn [10]\u001b[0m, in \u001b[0;36m<cell line: 6>\u001b[1;34m()\u001b[0m\n\u001b[0;32m      4\u001b[0m \u001b[38;5;66;03m##Errors are ValueError: maximum supported dimension for array is 32, found 126 in line 7\u001b[39;00m\n\u001b[0;32m      5\u001b[0m n \u001b[38;5;241m=\u001b[39m Available_Energy_May\n\u001b[1;32m----> 6\u001b[0m X \u001b[38;5;241m=\u001b[39m \u001b[43mnp\u001b[49m\u001b[38;5;241;43m.\u001b[39;49m\u001b[43mrandom\u001b[49m\u001b[38;5;241;43m.\u001b[39;49m\u001b[43mstandard_normal\u001b[49m\u001b[43m(\u001b[49m\u001b[43mn\u001b[49m\u001b[43m)\u001b[49m\n\u001b[0;32m      7\u001b[0m y \u001b[38;5;241m=\u001b[39m np\u001b[38;5;241m.\u001b[39mrandom\u001b[38;5;241m.\u001b[39mstandard_normal(n)\n\u001b[0;32m      8\u001b[0m z \u001b[38;5;241m=\u001b[39m [\u001b[38;5;241m1\u001b[39m, \u001b[38;5;241m2\u001b[39m, \u001b[38;5;241m3\u001b[39m, \u001b[38;5;241m4\u001b[39m]\n",
      "File \u001b[1;32mmtrand.pyx:1400\u001b[0m, in \u001b[0;36mnumpy.random.mtrand.RandomState.standard_normal\u001b[1;34m()\u001b[0m\n",
      "File \u001b[1;32m_common.pyx:598\u001b[0m, in \u001b[0;36mnumpy.random._common.cont\u001b[1;34m()\u001b[0m\n",
      "\u001b[1;31mValueError\u001b[0m: maximum supported dimension for an ndarray is 32, found 126"
     ]
    }
   ],
   "source": [
    "#Hexbin\n",
    "np.random.seed(10000)\n",
    "\n",
    "##Errors are ValueError: maximum supported dimension for array is 32, found 126 in line 7\n",
    "n = Available_Energy_May\n",
    "X = np.random.standard_normal(n)\n",
    "y = np.random.standard_normal(n)\n",
    "z = [1, 2, 3, 4]\n",
    "\n",
    "xmin = x.min() \n",
    "xmax = x.max() \n",
    "ymin = y.min() \n",
    "ymax = y.max() \n",
    "    \n",
    "hb = plt.hexbin(x, y, gridsize = 50, \n",
    "               bins = z, cmap ='BuGn') \n",
    "    \n",
    "plt.xlim(xmin, xmax)\n",
    "plt.ylim(ymin, ymax)\n",
    "    \n",
    "cb = plt.colorbar(hb) \n",
    "cb.set_label(z)\n",
    "plt.title('Hexbin plot')\n",
    "  \n",
    "plt.show()\n"
   ]
  },
  {
   "cell_type": "code",
   "execution_count": 11,
   "id": "283de751",
   "metadata": {},
   "outputs": [
    {
     "ename": "ValueError",
     "evalue": "maximum supported dimension for an ndarray is 32, found 126",
     "output_type": "error",
     "traceback": [
      "\u001b[1;31m---------------------------------------------------------------------------\u001b[0m",
      "\u001b[1;31mValueError\u001b[0m                                Traceback (most recent call last)",
      "Input \u001b[1;32mIn [11]\u001b[0m, in \u001b[0;36m<cell line: 8>\u001b[1;34m()\u001b[0m\n\u001b[0;32m      6\u001b[0m \u001b[38;5;66;03m##Errors are ValueError: maximum supported dimension for array is 32, found 126 in line 7\u001b[39;00m\n\u001b[0;32m      7\u001b[0m n \u001b[38;5;241m=\u001b[39m Available_Energy_May\n\u001b[1;32m----> 8\u001b[0m x \u001b[38;5;241m=\u001b[39m \u001b[43mnp\u001b[49m\u001b[38;5;241;43m.\u001b[39;49m\u001b[43mrandom\u001b[49m\u001b[38;5;241;43m.\u001b[39;49m\u001b[43mstandard_normal\u001b[49m\u001b[43m(\u001b[49m\u001b[43mn\u001b[49m\u001b[43m)\u001b[49m\n\u001b[0;32m      9\u001b[0m y \u001b[38;5;241m=\u001b[39m \u001b[38;5;241m2.0\u001b[39m \u001b[38;5;241m+\u001b[39m \u001b[38;5;241m3.0\u001b[39m \u001b[38;5;241m*\u001b[39m x \u001b[38;5;241m+\u001b[39m \u001b[38;5;241m4.0\u001b[39m \u001b[38;5;241m*\u001b[39m np\u001b[38;5;241m.\u001b[39mrandom\u001b[38;5;241m.\u001b[39mstandard_normal(n)\n\u001b[0;32m     10\u001b[0m xlim \u001b[38;5;241m=\u001b[39m x\u001b[38;5;241m.\u001b[39mmin(), x\u001b[38;5;241m.\u001b[39mmax()\n",
      "File \u001b[1;32mmtrand.pyx:1400\u001b[0m, in \u001b[0;36mnumpy.random.mtrand.RandomState.standard_normal\u001b[1;34m()\u001b[0m\n",
      "File \u001b[1;32m_common.pyx:598\u001b[0m, in \u001b[0;36mnumpy.random._common.cont\u001b[1;34m()\u001b[0m\n",
      "\u001b[1;31mValueError\u001b[0m: maximum supported dimension for an ndarray is 32, found 126"
     ]
    }
   ],
   "source": [
    "import numpy as np\n",
    "import matplotlib.pyplot as plt\n",
    "\n",
    "np.random.seed(10000)\n",
    "\n",
    "##Errors are ValueError: maximum supported dimension for array is 32, found 126 in line 7\n",
    "n = Available_Energy_May\n",
    "x = np.random.standard_normal(n)\n",
    "y = 2.0 + 3.0 * x + 4.0 * np.random.standard_normal(n)\n",
    "xlim = x.min(), x.max()\n",
    "ylim = y.min(), y.max()\n",
    "\n",
    "fig, (ax0, ax1) = plt.subplots(ncols=2, sharey=True, figsize=(9, 4))\n",
    "\n",
    "hb = ax0.hexbin(x, y, gridsize=50, cmap='inferno')\n",
    "ax0.set(xlim=xlim, ylim=ylim)\n",
    "ax0.set_title(\"Hexagon binning\")\n",
    "cb = fig.colorbar(hb, ax=ax0, label='counts')\n",
    "\n",
    "hb = ax1.hexbin(x, y, gridsize=50, bins='log', cmap='inferno')\n",
    "ax1.set(xlim=xlim, ylim=ylim)\n",
    "ax1.set_title(\"With a log color scale\")\n",
    "cb = fig.colorbar(hb, ax=ax1, label='log10(N)')\n",
    "\n",
    "plt.show()"
   ]
  }
 ],
 "metadata": {
  "kernelspec": {
   "display_name": "Python 3 (ipykernel)",
   "language": "python",
   "name": "python3"
  },
  "language_info": {
   "codemirror_mode": {
    "name": "ipython",
    "version": 3
   },
   "file_extension": ".py",
   "mimetype": "text/x-python",
   "name": "python",
   "nbconvert_exporter": "python",
   "pygments_lexer": "ipython3",
   "version": "3.9.12"
  }
 },
 "nbformat": 4,
 "nbformat_minor": 5
}

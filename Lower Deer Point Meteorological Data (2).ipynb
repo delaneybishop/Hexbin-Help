{
 "cells": [
  {
   "cell_type": "code",
   "execution_count": 1,
   "id": "cbec55d3",
   "metadata": {},
   "outputs": [],
   "source": [
    "#Import Python libraries\n",
    "import numpy as np\n",
    "import pandas as pd\n",
    "import matplotlib.pyplot as plt\n",
    "import math"
   ]
  },
  {
   "cell_type": "code",
   "execution_count": 2,
   "id": "e6af61ef",
   "metadata": {},
   "outputs": [],
   "source": [
    "#Ignore this\n",
    "#y = Air_Temp_C_2015 \n",
    "#x = filtered_met_2015['DateTime'] \n",
    "#plt.style.use('ggplot')\n",
    "#plt.title('Air Temperature', color='black')\n",
    "#plt.xlabel('Date & Time (hr)', color='black')\n",
    "#plt.ylabel('Air Temperature (C)', color='black')  \n",
    "#plt.tick_params(labelrotation=45)\n",
    "#plt.plot(x, y, ':')  \n",
    "#plt.show() "
   ]
  },
  {
   "cell_type": "code",
   "execution_count": 3,
   "id": "2795c7a2",
   "metadata": {},
   "outputs": [],
   "source": [
    "#Load csv files\n",
    "df_met_5_25_2023 = pd.read_csv('1_2023---6_2023_Met_Station.csv', parse_dates=['DateTime'])\n",
    "df_met_7_6_2023 = pd.read_csv('7_6_23_LDP_BD_Met_Station.csv', parse_dates=['DateTime'])\n",
    "df_met_8_3_2023 = pd.read_csv('8_3_23_LDP_Met.csv', parse_dates=['DateTime'])"
   ]
  },
  {
   "cell_type": "code",
   "execution_count": 4,
   "id": "7933f1bc",
   "metadata": {},
   "outputs": [],
   "source": [
    "#Load csv files\n",
    "df_total_sap_flow_LDP = pd.read_csv('8_3_23_LDP_DB_Total_Sap_Flow.csv', parse_dates = ['Date/Time'])\n",
    "df_total_sap_flow_LDP1 = pd.read_csv('8_3_23_LDP1_DB_Total_Sap_Flow.csv', parse_dates = ['Date/Time'])"
   ]
  },
  {
   "cell_type": "code",
   "execution_count": 5,
   "id": "3b59a525",
   "metadata": {},
   "outputs": [],
   "source": [
    "#Remove end colums from the csv file\n",
    "total_sap_flow_LDP1_filter = df_total_sap_flow_LDP1.drop(df_total_sap_flow_LDP1[df_total_sap_flow_LDP1['Date/Time'] == '1/0/1900 0:00'].index)\n",
    "total_sap_flow_LDP_filter = df_total_sap_flow_LDP.drop(df_total_sap_flow_LDP[df_total_sap_flow_LDP['Date/Time'] == '1/0/1900 0:00'].index)"
   ]
  },
  {
   "cell_type": "code",
   "execution_count": 6,
   "id": "ca39a1e4",
   "metadata": {},
   "outputs": [
    {
     "data": {
      "text/html": [
       "<div>\n",
       "<style scoped>\n",
       "    .dataframe tbody tr th:only-of-type {\n",
       "        vertical-align: middle;\n",
       "    }\n",
       "\n",
       "    .dataframe tbody tr th {\n",
       "        vertical-align: top;\n",
       "    }\n",
       "\n",
       "    .dataframe thead th {\n",
       "        text-align: right;\n",
       "    }\n",
       "</style>\n",
       "<table border=\"1\" class=\"dataframe\">\n",
       "  <thead>\n",
       "    <tr style=\"text-align: right;\">\n",
       "      <th></th>\n",
       "      <th>Date/Time</th>\n",
       "      <th>Total Sap Flow (L/hr or kg/hr)</th>\n",
       "    </tr>\n",
       "  </thead>\n",
       "  <tbody>\n",
       "    <tr>\n",
       "      <th>0</th>\n",
       "      <td>5/25/2023 18:00</td>\n",
       "      <td>0.49</td>\n",
       "    </tr>\n",
       "    <tr>\n",
       "      <th>1</th>\n",
       "      <td>5/25/2023 19:00</td>\n",
       "      <td>0.47</td>\n",
       "    </tr>\n",
       "    <tr>\n",
       "      <th>2</th>\n",
       "      <td>5/25/2023 20:00</td>\n",
       "      <td>0.40</td>\n",
       "    </tr>\n",
       "    <tr>\n",
       "      <th>3</th>\n",
       "      <td>5/25/2023 21:00</td>\n",
       "      <td>0.26</td>\n",
       "    </tr>\n",
       "    <tr>\n",
       "      <th>4</th>\n",
       "      <td>5/25/2023 22:00</td>\n",
       "      <td>0.14</td>\n",
       "    </tr>\n",
       "    <tr>\n",
       "      <th>...</th>\n",
       "      <td>...</td>\n",
       "      <td>...</td>\n",
       "    </tr>\n",
       "    <tr>\n",
       "      <th>35151</th>\n",
       "      <td>1/0/1900 0:00</td>\n",
       "      <td>NaN</td>\n",
       "    </tr>\n",
       "    <tr>\n",
       "      <th>35152</th>\n",
       "      <td>1/0/1900 0:00</td>\n",
       "      <td>NaN</td>\n",
       "    </tr>\n",
       "    <tr>\n",
       "      <th>35153</th>\n",
       "      <td>1/0/1900 0:00</td>\n",
       "      <td>NaN</td>\n",
       "    </tr>\n",
       "    <tr>\n",
       "      <th>35154</th>\n",
       "      <td>1/0/1900 0:00</td>\n",
       "      <td>NaN</td>\n",
       "    </tr>\n",
       "    <tr>\n",
       "      <th>35155</th>\n",
       "      <td>1/0/1900 0:00</td>\n",
       "      <td>NaN</td>\n",
       "    </tr>\n",
       "  </tbody>\n",
       "</table>\n",
       "<p>35156 rows × 2 columns</p>\n",
       "</div>"
      ],
      "text/plain": [
       "             Date/Time  Total Sap Flow (L/hr or kg/hr)\n",
       "0      5/25/2023 18:00                            0.49\n",
       "1      5/25/2023 19:00                            0.47\n",
       "2      5/25/2023 20:00                            0.40\n",
       "3      5/25/2023 21:00                            0.26\n",
       "4      5/25/2023 22:00                            0.14\n",
       "...                ...                             ...\n",
       "35151    1/0/1900 0:00                             NaN\n",
       "35152    1/0/1900 0:00                             NaN\n",
       "35153    1/0/1900 0:00                             NaN\n",
       "35154    1/0/1900 0:00                             NaN\n",
       "35155    1/0/1900 0:00                             NaN\n",
       "\n",
       "[35156 rows x 2 columns]"
      ]
     },
     "execution_count": 6,
     "metadata": {},
     "output_type": "execute_result"
    }
   ],
   "source": [
    "#Data present\n",
    "df_total_sap_flow_LDP"
   ]
  },
  {
   "cell_type": "code",
   "execution_count": 7,
   "id": "f339b12f",
   "metadata": {},
   "outputs": [
    {
     "data": {
      "text/html": [
       "<div>\n",
       "<style scoped>\n",
       "    .dataframe tbody tr th:only-of-type {\n",
       "        vertical-align: middle;\n",
       "    }\n",
       "\n",
       "    .dataframe tbody tr th {\n",
       "        vertical-align: top;\n",
       "    }\n",
       "\n",
       "    .dataframe thead th {\n",
       "        text-align: right;\n",
       "    }\n",
       "</style>\n",
       "<table border=\"1\" class=\"dataframe\">\n",
       "  <thead>\n",
       "    <tr style=\"text-align: right;\">\n",
       "      <th></th>\n",
       "      <th>Date/Time</th>\n",
       "      <th>Total Sap Flow (L/hr or kg/hr)</th>\n",
       "    </tr>\n",
       "  </thead>\n",
       "  <tbody>\n",
       "    <tr>\n",
       "      <th>0</th>\n",
       "      <td>5/25/2023 18:00</td>\n",
       "      <td>0.49</td>\n",
       "    </tr>\n",
       "    <tr>\n",
       "      <th>1</th>\n",
       "      <td>5/25/2023 19:00</td>\n",
       "      <td>0.47</td>\n",
       "    </tr>\n",
       "    <tr>\n",
       "      <th>2</th>\n",
       "      <td>5/25/2023 20:00</td>\n",
       "      <td>0.40</td>\n",
       "    </tr>\n",
       "    <tr>\n",
       "      <th>3</th>\n",
       "      <td>5/25/2023 21:00</td>\n",
       "      <td>0.26</td>\n",
       "    </tr>\n",
       "    <tr>\n",
       "      <th>4</th>\n",
       "      <td>5/25/2023 22:00</td>\n",
       "      <td>0.14</td>\n",
       "    </tr>\n",
       "    <tr>\n",
       "      <th>...</th>\n",
       "      <td>...</td>\n",
       "      <td>...</td>\n",
       "    </tr>\n",
       "    <tr>\n",
       "      <th>1666</th>\n",
       "      <td>8/3/2023 8:00</td>\n",
       "      <td>0.20</td>\n",
       "    </tr>\n",
       "    <tr>\n",
       "      <th>1667</th>\n",
       "      <td>8/3/2023 9:00</td>\n",
       "      <td>0.40</td>\n",
       "    </tr>\n",
       "    <tr>\n",
       "      <th>1668</th>\n",
       "      <td>8/3/2023 10:00</td>\n",
       "      <td>0.64</td>\n",
       "    </tr>\n",
       "    <tr>\n",
       "      <th>1669</th>\n",
       "      <td>8/3/2023 11:00</td>\n",
       "      <td>0.71</td>\n",
       "    </tr>\n",
       "    <tr>\n",
       "      <th>1670</th>\n",
       "      <td>8/3/2023 12:00</td>\n",
       "      <td>0.82</td>\n",
       "    </tr>\n",
       "  </tbody>\n",
       "</table>\n",
       "<p>1671 rows × 2 columns</p>\n",
       "</div>"
      ],
      "text/plain": [
       "            Date/Time  Total Sap Flow (L/hr or kg/hr)\n",
       "0     5/25/2023 18:00                            0.49\n",
       "1     5/25/2023 19:00                            0.47\n",
       "2     5/25/2023 20:00                            0.40\n",
       "3     5/25/2023 21:00                            0.26\n",
       "4     5/25/2023 22:00                            0.14\n",
       "...               ...                             ...\n",
       "1666    8/3/2023 8:00                            0.20\n",
       "1667    8/3/2023 9:00                            0.40\n",
       "1668   8/3/2023 10:00                            0.64\n",
       "1669   8/3/2023 11:00                            0.71\n",
       "1670   8/3/2023 12:00                            0.82\n",
       "\n",
       "[1671 rows x 2 columns]"
      ]
     },
     "execution_count": 7,
     "metadata": {},
     "output_type": "execute_result"
    }
   ],
   "source": [
    "#filtered dataframe has data present\n",
    "total_sap_flow_LDP_filter"
   ]
  },
  {
   "cell_type": "code",
   "execution_count": 8,
   "id": "80d735e6",
   "metadata": {},
   "outputs": [],
   "source": [
    "#convert to datetime\n",
    "#total_sap_flow_LDP1_filter['Date/Time'] = pd.to_datetime(total_sap_flow_LDP1_filter['Date/Time'])\n",
    "#total_sap_flow_LDP_filter['Date/Time'] = pd.to_datetime(total_sap_flow_LDP_filter['Date/Time'])"
   ]
  },
  {
   "cell_type": "code",
   "execution_count": 9,
   "id": "3aabc840",
   "metadata": {},
   "outputs": [],
   "source": [
    "#filter dataframe DateTimes\n",
    "May = df_met_5_25_2023.loc[(df_met_5_25_2023['DateTime'] >= '2023-05-25 17:00:00')\n",
    "                     & (df_met_5_25_2023['DateTime'] < '2023-06-02 00:00:00')]\n",
    "June = df_met_7_6_2023.loc[(df_met_7_6_2023['DateTime'] >= '2023-06-01 00:00:00')\n",
    "                     & (df_met_7_6_2023['DateTime'] < '2023-07-01 00:00:00')]\n",
    "July = df_met_8_3_2023.loc[(df_met_8_3_2023['DateTime'] >= '2023-07-01 00:00:00')\n",
    "                     & (df_met_8_3_2023['DateTime'] < '2023-08-01 00:00:00')] "
   ]
  },
  {
   "cell_type": "code",
   "execution_count": 10,
   "id": "c22fc514",
   "metadata": {},
   "outputs": [],
   "source": [
    "#filter dataframe DateTimes\n",
    "May_sf_LDP = total_sap_flow_LDP_filter.loc[(total_sap_flow_LDP_filter['Date/Time'] >= '2023-05-25 18:00:00')\n",
    "                     & (total_sap_flow_LDP_filter['Date/Time'] < '2023-06-01 00:00:00')]\n",
    "#June_sf_LDP = total_sap_flow_LDP_filter.loc[(total_sap_flow_LDP_filter['Date/Time'] >= '2023-06-01 00:00:00')\n",
    " #                    & (total_sap_flow_LDP_filter['Date/Time'] < '2023-07-01 00:00:00')] \n",
    "#July_sf_LDP = total_sap_flow_LDP_filter.loc[(total_sap_flow_LDP_filter['Date/Time'] >= '2023-07-01 00:00:00')\n",
    " #                    & (total_sap_flow_LDP_filter['Date/Time'] < '2023-08-01 00:00:00')] \n",
    "#May_sf_LDP1 = total_sap_flow_LDP1_filter.loc[(total_sap_flow_LDP1_filter['Date/Time'] >= '2023-05-25 17:00:00')\n",
    "  #                   & (total_sap_flow_LDP1_filter['Date/Time'] < '2023-06-01 00:00:00')]\n",
    "#June_sf_LDP1 = total_sap_flow_LDP1_filter.loc[(total_sap_flow_LDP1_filter['Date/Time'] >= '2023-06-01 00:00:00')\n",
    " #                    & (total_sap_flow_LDP1_filter['Date/Time'] < '2023-07-01 00:00:00')] \n",
    "#July_sf_LDP1 = total_sap_flow_LDP1_filter.loc[(total_sap_flow_LDP1_filter['Date/Time'] >= '2023-07-01 00:00:00')\n",
    " #                    & (total_sap_flow_LDP1_filter['Date/Time'] < '2023-08-01 00:00:00')]"
   ]
  },
  {
   "cell_type": "code",
   "execution_count": 11,
   "id": "e13c3965",
   "metadata": {},
   "outputs": [
    {
     "data": {
      "text/html": [
       "<div>\n",
       "<style scoped>\n",
       "    .dataframe tbody tr th:only-of-type {\n",
       "        vertical-align: middle;\n",
       "    }\n",
       "\n",
       "    .dataframe tbody tr th {\n",
       "        vertical-align: top;\n",
       "    }\n",
       "\n",
       "    .dataframe thead th {\n",
       "        text-align: right;\n",
       "    }\n",
       "</style>\n",
       "<table border=\"1\" class=\"dataframe\">\n",
       "  <thead>\n",
       "    <tr style=\"text-align: right;\">\n",
       "      <th></th>\n",
       "      <th>Date/Time</th>\n",
       "      <th>Total Sap Flow (L/hr or kg/hr)</th>\n",
       "    </tr>\n",
       "  </thead>\n",
       "  <tbody>\n",
       "  </tbody>\n",
       "</table>\n",
       "</div>"
      ],
      "text/plain": [
       "Empty DataFrame\n",
       "Columns: [Date/Time, Total Sap Flow (L/hr or kg/hr)]\n",
       "Index: []"
      ]
     },
     "execution_count": 11,
     "metadata": {},
     "output_type": "execute_result"
    }
   ],
   "source": [
    "#Empty file, unsure why, data is present in all other dataframes\n",
    "May_sf_LDP"
   ]
  },
  {
   "cell_type": "code",
   "execution_count": 12,
   "id": "d49c51db",
   "metadata": {},
   "outputs": [],
   "source": [
    "#Create data naming for graphing from csv columns and filtered dataframes\n",
    "Net_Radiation_Shortwave_May = (May['Solar_Radiation_Shortwave_Up_Average_W/m2']+May['Solar_Radiation_Shortwave_Down_Average_W/m2'])\n",
    "Net_Radiation_Longwave_May = (May['Solar_Radiation_Longwave_Up_Average_W/m2']+May['Solar_Radiation_Longwave_Down_Average_W/m2'])\n",
    "Available_Energy_May = Net_Radiation_Shortwave_May-Net_Radiation_Longwave_May\n",
    "Net_Radiation_Shortwave_June = (June['Solar_Radiation_Shortwave_Up_Average_W/m2']+June['Solar_Radiation_Shortwave_Down_Average_W/m2'])\n",
    "Net_Radiation_Longwave_June = (June['Solar_Radiation_Longwave_Up_Average_W/m2']+June['Solar_Radiation_Longwave_Down_Average_W/m2'])\n",
    "Available_Energy_June = ((Net_Radiation_Shortwave_June-Net_Radiation_Longwave_June)+Available_Energy_May)\n",
    "Net_Radiation_Shortwave_July = (July['Solar_Radiation_Shortwave_Up_Average_W/m2']+July['Solar_Radiation_Shortwave_Down_Average_W/m2'])\n",
    "Net_Radiation_Longwave_July = (July['Solar_Radiation_Longwave_Up_Average_W/m2']+July['Solar_Radiation_Longwave_Down_Average_W/m2'])\n",
    "Available_Energy_July = Net_Radiation_Shortwave_July-Net_Radiation_Longwave_July"
   ]
  },
  {
   "cell_type": "code",
   "execution_count": 13,
   "id": "0164fc1b",
   "metadata": {},
   "outputs": [],
   "source": [
    "#Create data naming for graphing from csv columns and filtered dataframes\n",
    "Soil_Moisture_May = (May['Soil_Moisture1_period_8cm_west_Average']+May['Soil_Moisture2_period_8cm_east_Average'])\n",
    "Volumetric_Water_Content_May = (May['Volumetric_Water_Content_Soil_Moisture1_8cm_west_Avgerage_cm3/cm3']+May['Volumetric_Water_Content2_Soil_Moisture_8cm_east_Average_cm3/cm3'])\n",
    "Soil_Moisture_June = (June['Soil_Moisture1_period_8cm_west_Average']+June['Soil_Moisture2_period_8cm_east_Average'])\n",
    "Volumetric_Water_Content_June = (June['Volumetric_Water_Content_Soil_Moisture1_8cm_west_Avgerage_cm3/cm3']+June['Volumetric_Water_Content2_Soil_Moisture_8cm_east_Average_cm3/cm3'])\n",
    "Soil_Moisture_July = (July['Soil_Moisture1_period_8cm_west_Average']+July['Soil_Moisture2_period_8cm_east_Average'])\n",
    "Volumetric_Water_Content_July = (July['Volumetric_Water_Content_Soil_Moisture1_8cm_west_Avgerage_cm3/cm3']+July['Volumetric_Water_Content2_Soil_Moisture_8cm_east_Average_cm3/cm3'])"
   ]
  },
  {
   "cell_type": "code",
   "execution_count": 14,
   "id": "435556d1",
   "metadata": {},
   "outputs": [],
   "source": [
    "#Create data naming for graphing from csv columns and filtered dataframes\n",
    "Air_Temp_May = (May['Air_Temp_Average_DegC'])\n",
    "Relative_Humidity_May = (May['Relative_Humidity_Average_%'])\n",
    "Air_Temp_June = (June['Air_Temp_Average_DegC']) \n",
    "Relative_Humidity_June = (June['Relative_Humidity_Average_%'])\n",
    "Air_Temp_July = (July['Air_Temp_Average_DegC'])\n",
    "Relative_Humidity_July = (July['Relative_Humidity_Average_%'])"
   ]
  },
  {
   "cell_type": "code",
   "execution_count": 15,
   "id": "f5d1912d",
   "metadata": {},
   "outputs": [],
   "source": [
    "#Create data naming for graphing from csv columns and filtered dataframes\n",
    "Total_Sap_Flow_LDP_May = (May_sf_LDP['Total Sap Flow (L/hr or kg/hr)'])\n",
    "#Total_Sap_Flow_LDP_June = (June_sf_LDP['Total Sap Flow (L/hr or kg/hr)'])\n",
    "#Total_Sap_Flow_LDP_July = (July_sf_LDP['Total Sap Flow (L/hr or kg/hr)'])\n",
    "#Total_Sap_Flow_LDP1_May = (May_sf_LDP1['Total Sap Flow (L/hr or kg/hr)'])\n",
    "#Total_Sap_Flow_LDP1_June = (June_sf_LDP1['Total Sap Flow (L/hr or kg/hr)'])\n",
    "#Total_Sap_Flow_LDP1_July = (July_sf_LDP1['Total Sap Flow (L/hr or kg/hr)'])"
   ]
  },
  {
   "cell_type": "code",
   "execution_count": 16,
   "id": "b2288497",
   "metadata": {},
   "outputs": [
    {
     "data": {
      "text/plain": [
       "Series([], Name: Total Sap Flow (L/hr or kg/hr), dtype: float64)"
      ]
     },
     "execution_count": 16,
     "metadata": {},
     "output_type": "execute_result"
    }
   ],
   "source": [
    "Total_Sap_Flow_LDP_May"
   ]
  },
  {
   "cell_type": "code",
   "execution_count": 17,
   "id": "17f74d30",
   "metadata": {},
   "outputs": [],
   "source": [
    "#Calculating Vapor Pressure Defecit (VPD)\n",
    "\n",
    "#First saturated vapor pressure\n",
    "may_sat_vp = 0.6108 * np.exp(17.27 * Air_Temp_May / (Air_Temp_May + 237.3))\n",
    "june_sat_vp = 0.6108 * np.exp(17.27 * Air_Temp_June / (Air_Temp_June + 237.3))\n",
    "july_sat_vp = 0.6108 * np.exp(17.27 * Air_Temp_July / (Air_Temp_July + 237.3))\n",
    "\n",
    "#Now actual vapor pressure \n",
    "may_actual_vp = Relative_Humidity_May / 100 * may_sat_vp\n",
    "june_actual_vp = Relative_Humidity_June / 100 * june_sat_vp\n",
    "july_actual_vp = Relative_Humidity_July / 100 * july_sat_vp\n",
    "\n",
    "#VPD\n",
    "May_VPD = may_sat_vp-may_actual_vp\n",
    "June_VPD = june_sat_vp-june_actual_vp\n",
    "July_VPD = july_sat_vp-july_actual_vp"
   ]
  },
  {
   "cell_type": "code",
   "execution_count": 18,
   "id": "0a9b97dd",
   "metadata": {},
   "outputs": [
    {
     "data": {
      "image/png": "[encoded data removed]",
      "text/plain": [
       "<Figure size 720x504 with 1 Axes>"
      ]
     },
     "metadata": {
      "needs_background": "light"
     },
     "output_type": "display_data"
    }
   ],
   "source": [
    "#Mostly Will's code, once I know better, redo\n",
    "np.random.seed(10)\n",
    "\n",
    "#List datasets\n",
    "data_1 = np.random.normal(Soil_Moisture_May)\n",
    "data_2 = np.random.normal(Soil_Moisture_June)\n",
    "data_3 = np.random.normal(Soil_Moisture_July)\n",
    "\n",
    "data = [data_1, data_2, data_3]\n",
    "\n",
    "fig = plt.figure(figsize =(10, 7))\n",
    " \n",
    "# Creating axes instance\n",
    "ax = fig.add_axes([1, 1, 1, 1])\n",
    " \n",
    "# Creating boxplot\n",
    "bp = ax.boxplot(data, patch_artist = True)\n",
    "\n",
    "colors = ['lightblue', 'lightblue',\n",
    "          'lightblue', 'lightblue']\n",
    " \n",
    "for patch, color in zip(bp['boxes'], colors):\n",
    "    patch.set_facecolor(color) \n",
    "\n",
    "# changing color and linewidth of the whiskers\n",
    "for whisker in bp['whiskers']:\n",
    "    whisker.set(color ='gray',\n",
    "                linewidth = 2,\n",
    "                linestyle =\":\")\n",
    "    \n",
    "# changing color and linewidth of the caps\n",
    "for cap in bp['caps']:\n",
    "    cap.set(color ='black',\n",
    "            linewidth = 2)   \n",
    "# changing color and linewidth of the medians\n",
    "for median in bp['medians']:\n",
    "    median.set(color ='red',\n",
    "               linewidth = 1.5)\n",
    "    \n",
    "# changing style of fliers\n",
    "for flier in bp['fliers']:\n",
    "    flier.set(marker ='D',\n",
    "              color ='red',\n",
    "              alpha = 0.5)\n",
    "\n",
    "# Adding title and x-y axis labels\n",
    "plt.title(\"Lower Deer Point Soil Moisture Summer 2023\")\n",
    "plt.xlabel(\"Month\")\n",
    "plt.ylabel(\"Soil Moisture (cm3/cm3)\")\n",
    " \n",
    "# Removing top axes and right axes and setting ticks\n",
    "ax.get_xaxis().tick_bottom()\n",
    "ax.get_yaxis().tick_left()\n",
    "\n",
    "# x-axis labels\n",
    "ax.set_xticklabels(['May', 'June','July'])\n",
    "    \n",
    "plt.show()"
   ]
  },
  {
   "cell_type": "code",
   "execution_count": 19,
   "id": "a94d11b3",
   "metadata": {},
   "outputs": [
    {
     "ename": "ValueError",
     "evalue": "zero-size array to reduction operation minimum which has no identity",
     "output_type": "error",
     "traceback": [
      "\u001b[1;31m---------------------------------------------------------------------------\u001b[0m",
      "\u001b[1;31mValueError\u001b[0m                                Traceback (most recent call last)",
      "Input \u001b[1;32mIn [19]\u001b[0m, in \u001b[0;36m<cell line: 7>\u001b[1;34m()\u001b[0m\n\u001b[0;32m      5\u001b[0m xmin \u001b[38;5;241m=\u001b[39m x\u001b[38;5;241m.\u001b[39mmin()\n\u001b[0;32m      6\u001b[0m xmax \u001b[38;5;241m=\u001b[39m x\u001b[38;5;241m.\u001b[39mmax()\n\u001b[1;32m----> 7\u001b[0m ymin \u001b[38;5;241m=\u001b[39m \u001b[43my\u001b[49m\u001b[38;5;241;43m.\u001b[39;49m\u001b[43mmin\u001b[49m\u001b[43m(\u001b[49m\u001b[43m)\u001b[49m\n\u001b[0;32m      8\u001b[0m ymax \u001b[38;5;241m=\u001b[39m y\u001b[38;5;241m.\u001b[39mmax()\n\u001b[0;32m      9\u001b[0m hb \u001b[38;5;241m=\u001b[39m plt\u001b[38;5;241m.\u001b[39mhexbin (x, y, gridsize \u001b[38;5;241m=\u001b[39m \u001b[38;5;241m50\u001b[39m,\n\u001b[0;32m     10\u001b[0m                 bins \u001b[38;5;241m=\u001b[39m z, cmap \u001b[38;5;241m=\u001b[39m \u001b[38;5;124m'\u001b[39m\u001b[38;5;124mBuGn\u001b[39m\u001b[38;5;124m'\u001b[39m)\n",
      "File \u001b[1;32m~\\anaconda3\\lib\\site-packages\\numpy\\core\\_methods.py:44\u001b[0m, in \u001b[0;36m_amin\u001b[1;34m(a, axis, out, keepdims, initial, where)\u001b[0m\n\u001b[0;32m     42\u001b[0m \u001b[38;5;28;01mdef\u001b[39;00m \u001b[38;5;21m_amin\u001b[39m(a, axis\u001b[38;5;241m=\u001b[39m\u001b[38;5;28;01mNone\u001b[39;00m, out\u001b[38;5;241m=\u001b[39m\u001b[38;5;28;01mNone\u001b[39;00m, keepdims\u001b[38;5;241m=\u001b[39m\u001b[38;5;28;01mFalse\u001b[39;00m,\n\u001b[0;32m     43\u001b[0m           initial\u001b[38;5;241m=\u001b[39m_NoValue, where\u001b[38;5;241m=\u001b[39m\u001b[38;5;28;01mTrue\u001b[39;00m):\n\u001b[1;32m---> 44\u001b[0m     \u001b[38;5;28;01mreturn\u001b[39;00m \u001b[43mumr_minimum\u001b[49m\u001b[43m(\u001b[49m\u001b[43ma\u001b[49m\u001b[43m,\u001b[49m\u001b[43m \u001b[49m\u001b[43maxis\u001b[49m\u001b[43m,\u001b[49m\u001b[43m \u001b[49m\u001b[38;5;28;43;01mNone\u001b[39;49;00m\u001b[43m,\u001b[49m\u001b[43m \u001b[49m\u001b[43mout\u001b[49m\u001b[43m,\u001b[49m\u001b[43m \u001b[49m\u001b[43mkeepdims\u001b[49m\u001b[43m,\u001b[49m\u001b[43m \u001b[49m\u001b[43minitial\u001b[49m\u001b[43m,\u001b[49m\u001b[43m \u001b[49m\u001b[43mwhere\u001b[49m\u001b[43m)\u001b[49m\n",
      "\u001b[1;31mValueError\u001b[0m: zero-size array to reduction operation minimum which has no identity"
     ]
    }
   ],
   "source": [
    "np.random.normal(0,1,size=(160))\n",
    "x = np.random.normal(Available_Energy_May)\n",
    "y = np.random.normal(Total_Sap_Flow_LDP_May)\n",
    "z = [1, 2, 3, 4]\n",
    "xmin = x.min()\n",
    "xmax = x.max()\n",
    "ymin = y.min()\n",
    "ymax = y.max()\n",
    "hb = plt.hexbin (x, y, gridsize = 50,\n",
    "                bins = z, cmap = 'BuGn')\n",
    "plt.xlim(xmin, xmax)\n",
    "plt.ylim(ymin, ymax)\n",
    "cb = plt.colorbar(hb)\n",
    "plt.xlabel('Available Energy in May (W/m2)')\n",
    "plt.ylabel('Available Energy in May (W/m2)')\n",
    "plt.title('Hexbin')"
   ]
  },
  {
   "cell_type": "code",
   "execution_count": null,
   "id": "2fc1b9ba",
   "metadata": {},
   "outputs": [],
   "source": []
  }
 ],
 "metadata": {
  "kernelspec": {
   "display_name": "Python 3 (ipykernel)",
   "language": "python",
   "name": "python3"
  },
  "language_info": {
   "codemirror_mode": {
    "name": "ipython",
    "version": 3
   },
   "file_extension": ".py",
   "mimetype": "text/x-python",
   "name": "python",
   "nbconvert_exporter": "python",
   "pygments_lexer": "ipython3",
   "version": "3.9.12"
  }
 },
 "nbformat": 4,
 "nbformat_minor": 5
}
